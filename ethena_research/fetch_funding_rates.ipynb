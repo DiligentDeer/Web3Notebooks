{
 "cells": [
  {
   "cell_type": "markdown",
   "metadata": {},
   "source": [
    "# Notebook focused towards fetching funding rate across CEX and save the data to .csv"
   ]
  },
  {
   "cell_type": "markdown",
   "metadata": {},
   "source": [
    "- [Binance API](https://developers.binance.com/docs/derivatives/usds-margined-futures/market-data/rest-api/Get-Funding-Rate-History)\n",
    "- [ByBit API](https://bybit-exchange.github.io/docs/api-explorer/v5/market/history-fund-rate)\n",
    "- [OKX API](https://www.okx.com/docs-v5/en/?python#public-data-rest-api-get-funding-rate-history)\n",
    "- [Deribit API](https://docs.deribit.com/#public-get_funding_rate_history)\n",
    "- [Bitget API](https://www.bitget.com/api-doc/contract/market/Get-History-Funding-Rate)"
   ]
  },
  {
   "cell_type": "code",
   "execution_count": null,
   "metadata": {},
   "outputs": [],
   "source": []
  }
 ],
 "metadata": {
  "kernelspec": {
   "display_name": "env",
   "language": "python",
   "name": "python3"
  },
  "language_info": {
   "name": "python",
   "version": "3.12.4"
  }
 },
 "nbformat": 4,
 "nbformat_minor": 2
}
