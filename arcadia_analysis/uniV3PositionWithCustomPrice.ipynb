{
 "cells": [
  {
   "cell_type": "code",
   "execution_count": 1,
   "metadata": {},
   "outputs": [],
   "source": [
    "from requests import get, post\n",
    "from web3 import Web3, HTTPProvider\n",
    "from icecream import ic\n",
    "import numpy as np\n",
    "import pandas as pd\n",
    "import sys\n",
    "from dotenv import load_dotenv\n",
    "import os\n",
    "import math\n",
    "import json"
   ]
  },
  {
   "cell_type": "code",
   "execution_count": 2,
   "metadata": {},
   "outputs": [],
   "source": [
    "# Add the directory containing the module to the Python path\n",
    "module_path = os.path.abspath(os.path.join('..'))\n",
    "sys.path.append(module_path)\n",
    "\n",
    "# Import functions from the module\n",
    "from uniV3Pricing import get_account_data, get_uniswap_slot0, get_nft_positions_details, get_amounts_from_ticks"
   ]
  },
  {
   "cell_type": "code",
   "execution_count": 3,
   "metadata": {},
   "outputs": [
    {
     "name": "stdout",
     "output_type": "stream",
     "text": [
      "Web3 is connected: True\n"
     ]
    }
   ],
   "source": [
    "# Explicitly specify the path to .env file using forward slashes\n",
    "load_dotenv(dotenv_path='.env')\n",
    "\n",
    "# Verify that the environment variable is loaded correctly\n",
    "alchemy_key = os.getenv('ALCHEMY_KEY')\n",
    "\n",
    "# Create the Web3 provider using the Alchemy URL\n",
    "w3 = Web3(HTTPProvider(f\"https://base-mainnet.g.alchemy.com/v2/{alchemy_key}\")) # BASE\n",
    "# w3 = Web3(HTTPProvider(f\"https://eth-mainnet.g.alchemy.com/v2/{alchemy_key}\")) # ETHEREUM\n",
    "\n",
    "# Check connection\n",
    "print(f\"Web3 is connected: {w3.is_connected()}\")\n"
   ]
  },
  {
   "cell_type": "markdown",
   "metadata": {},
   "source": [
    "Example Pool: \n",
    "          \n",
    "- `\"name\": \"wETH-USDC\",`\n",
    "- `\"pool\": \"0xd0b53D9277642d899DF5C87A3966A349A798F224\",`\n",
    "- `\"token0\": \"0x4200000000000000000000000000000000000006\",`\n",
    "- `\"token1\": \"0x833589fCD6eDb6E08f4c7C32D4f71b54bdA02913\",`\n",
    "- `\"decimal0\": 18,`\n",
    "- `\"decimal1\": 6`\n"
   ]
  },
  {
   "cell_type": "markdown",
   "metadata": {},
   "source": [
    "Key Functions:\n",
    "- `sqrt_price_x96_to_price`: Converts the square root price x96 to a price.\n",
    "- `price_to_tick`: Converts a price to a tick value.\n",
    "- `get_account_data`: Retrieves account data based on the provided address.\n",
    "- `get_uniswap_slot0`: Fetches slot 0 data from the Uniswap pool.\n",
    "- `get_nft_positions_details`: Retrieves NFT position details for a given account.\n",
    "- `get_amounts_from_ticks`: Calculates amounts based on tick values and liquidity."
   ]
  },
  {
   "cell_type": "markdown",
   "metadata": {},
   "source": [
    "Custom Pricing Strategy:\n",
    "- The notebook demonstrates a custom pricing strategy based on predefined token prices in USD.\n",
    "- It adjusts the token prices based on decimal values and calculates a custom tick value using the price_to_tick function."
   ]
  },
  {
   "cell_type": "code",
   "execution_count": 4,
   "metadata": {},
   "outputs": [],
   "source": [
    "def sqrt_price_x96_to_price(sqrt_price_x96):\n",
    "    Q96 = 0x1000000000000000000000000\n",
    "    return (sqrt_price_x96 / Q96) ** 2\n",
    "\n",
    "\n",
    "def price_to_tick(p):\n",
    "    return math.floor(math.log(p, 1.0001))"
   ]
  },
  {
   "cell_type": "code",
   "execution_count": 5,
   "metadata": {},
   "outputs": [
    {
     "name": "stdout",
     "output_type": "stream",
     "text": [
      "Pool Data: {\n",
      "    \"sqrtPriceX96\": 4417273057366869622785059,\n",
      "    \"tick\": -195902,\n",
      "    \"observationIndex\": 1289,\n",
      "    \"observationCardinality\": 2000,\n",
      "    \"observationCardinalityNext\": 2000,\n",
      "    \"feeProtocol\": 0,\n",
      "    \"unlocked\": true\n",
      "}\n",
      "Price of token0 in token1 after decimal adjustment: 3108.488931020529\n"
     ]
    }
   ],
   "source": [
    "# Current status of the pool:\n",
    "\n",
    "pool_dict = {\n",
    "            \"name\": \"wETH-USDC\",\n",
    "            \"pool\": \"0xd0b53D9277642d899DF5C87A3966A349A798F224\",\n",
    "            \"token0\": \"0x4200000000000000000000000000000000000006\",\n",
    "            \"token1\": \"0x833589fCD6eDb6E08f4c7C32D4f71b54bdA02913\",\n",
    "            \"decimal0\": 18,\n",
    "            \"decimal1\": 6\n",
    "            }\n",
    "\n",
    "pool_data = get_uniswap_slot0(pool_dict[\"pool\"], w3)\n",
    "print(f'Pool Data: {json.dumps(pool_data, indent=4)}')\n",
    "\n",
    "sqrtPriceX96 = pool_data['sqrtPriceX96']\n",
    "\n",
    "\n",
    "price = sqrt_price_x96_to_price(sqrtPriceX96) * 10**(pool_dict[\"decimal0\"]) * 10**(-pool_dict[\"decimal1\"])\n",
    "print(f'Price of token0 in token1 after decimal adjustment: {price}')\n"
   ]
  },
  {
   "cell_type": "code",
   "execution_count": 6,
   "metadata": {},
   "outputs": [
    {
     "name": "stdout",
     "output_type": "stream",
     "text": [
      "Price of token0 in token1: 3111.1111111111113\n",
      "Price of token0 in token1 adjusted: 3.1111111111111114e-09\n",
      "Custom tick: -195893\n"
     ]
    }
   ],
   "source": [
    "# Custom Pricing\n",
    "\n",
    "token0_price_in_usd = 3080.00\n",
    "token1_price_in_usd = 0.99\n",
    "\n",
    "token0_in_token1 = token0_price_in_usd / token1_price_in_usd\n",
    "print(f'Price of token0 in token1: {token0_in_token1}')\n",
    "\n",
    "# Decimal adjustments\n",
    "\n",
    "token0_in_token1_adjusted = token0_in_token1 * 10**(-pool_dict[\"decimal0\"]) * 10**(pool_dict[\"decimal1\"])\n",
    "print(f'Price of token0 in token1 adjusted: {token0_in_token1_adjusted}')\n",
    "\n",
    "custom_tick = price_to_tick(token0_in_token1_adjusted)\n",
    "print(f'Custom tick: {custom_tick}')"
   ]
  },
  {
   "cell_type": "code",
   "execution_count": 7,
   "metadata": {},
   "outputs": [
    {
     "name": "stdout",
     "output_type": "stream",
     "text": [
      "[\n",
      "    [\n",
      "        \"0xd9aAEc86B65D86f6A7B5B1b0c42FFA531710b6CA\",\n",
      "        \"0x833589fCD6eDb6E08f4c7C32D4f71b54bdA02913\",\n",
      "        \"0x4200000000000000000000000000000000000006\",\n",
      "        \"0x03a520b32C04BF3bEEf7BEb72E919cf822Ed34f1\",\n",
      "        \"0x03a520b32C04BF3bEEf7BEb72E919cf822Ed34f1\"\n",
      "    ],\n",
      "    [\n",
      "        0,\n",
      "        0,\n",
      "        0,\n",
      "        720767,\n",
      "        720766\n",
      "    ],\n",
      "    [\n",
      "        143866670,\n",
      "        422153165,\n",
      "        44815470303526491,\n",
      "        1,\n",
      "        1\n",
      "    ]\n",
      "]\n"
     ]
    }
   ],
   "source": [
    "# AssetDetails of 0xb2DF87b16682435bdf29494fEA44dF5374F22f3E account\n",
    "account_data = get_account_data('0xb2DF87b16682435bdf29494fEA44dF5374F22f3E', w3)\n",
    "\n",
    "\n",
    "print(json.dumps(account_data, indent=4))"
   ]
  },
  {
   "cell_type": "code",
   "execution_count": 8,
   "metadata": {},
   "outputs": [
    {
     "name": "stdout",
     "output_type": "stream",
     "text": [
      "{\n",
      "    \"nonce\": 0,\n",
      "    \"operator\": \"0x0000000000000000000000000000000000000000\",\n",
      "    \"token0\": \"0x4200000000000000000000000000000000000006\",\n",
      "    \"token1\": \"0x833589fCD6eDb6E08f4c7C32D4f71b54bdA02913\",\n",
      "    \"fee\": 500,\n",
      "    \"tickLower\": -196610,\n",
      "    \"tickUpper\": -195600,\n",
      "    \"liquidity\": 13057076758385779,\n",
      "    \"feeGrowthInside0LastX128\": 41610421791424474659770915678114485696014,\n",
      "    \"feeGrowthInside1LastX128\": 126828130941184306312069351412926,\n",
      "    \"tokensOwed0\": 0,\n",
      "    \"tokensOwed1\": 0\n",
      "}\n"
     ]
    }
   ],
   "source": [
    "nft_data = get_nft_positions_details(account_data[0][4], w3, account_data[1][4])\n",
    "print(json.dumps(nft_data, indent=4))"
   ]
  },
  {
   "cell_type": "code",
   "execution_count": 9,
   "metadata": {},
   "outputs": [
    {
     "data": {
      "text/plain": [
       "(3404352141796071324, 25644990651)"
      ]
     },
     "execution_count": 9,
     "metadata": {},
     "output_type": "execute_result"
    }
   ],
   "source": [
    "get_amounts_from_ticks(custom_tick, tickLower=nft_data[\"tickLower\"], tickUpper=nft_data[\"tickUpper\"], liquidity=nft_data[\"liquidity\"])"
   ]
  }
 ],
 "metadata": {
  "kernelspec": {
   "display_name": "env",
   "language": "python",
   "name": "python3"
  },
  "language_info": {
   "codemirror_mode": {
    "name": "ipython",
    "version": 3
   },
   "file_extension": ".py",
   "mimetype": "text/x-python",
   "name": "python",
   "nbconvert_exporter": "python",
   "pygments_lexer": "ipython3",
   "version": "3.12.4"
  }
 },
 "nbformat": 4,
 "nbformat_minor": 2
}
