{
 "cells": [
  {
   "cell_type": "code",
   "execution_count": null,
   "metadata": {},
   "outputs": [],
   "source": [
    "from requests import get, post\n",
    "from web3 import Web3, HTTPProvider\n",
    "from icecream import ic\n",
    "import numpy as np\n",
    "import pandas as pd\n",
    "import sys\n",
    "from dotenv import load_dotenv\n",
    "import os\n",
    "import math\n",
    "import json"
   ]
  },
  {
   "cell_type": "code",
   "execution_count": null,
   "metadata": {},
   "outputs": [],
   "source": [
    "# Add the directory containing the module to the Python path\n",
    "module_path = os.path.abspath(os.path.join('..'))\n",
    "sys.path.append(module_path)\n",
    "\n",
    "# Import functions from the module\n",
    "from uniV3Pricing import get_account_data, get_uniswap_slot0, get_nft_positions_details, get_amounts_from_ticks"
   ]
  },
  {
   "cell_type": "code",
   "execution_count": null,
   "metadata": {},
   "outputs": [],
   "source": [
    "# Explicitly specify the path to .env file using forward slashes\n",
    "load_dotenv(dotenv_path='.env')\n",
    "\n",
    "# Verify that the environment variable is loaded correctly\n",
    "alchemy_key = os.getenv('ALCHEMY_KEY')\n",
    "\n",
    "# Create the Web3 provider using the Alchemy URL\n",
    "w3 = Web3(HTTPProvider(f\"https://base-mainnet.g.alchemy.com/v2/{alchemy_key}\")) # BASE\n",
    "# w3 = Web3(HTTPProvider(f\"https://eth-mainnet.g.alchemy.com/v2/{alchemy_key}\")) # ETHEREUM\n",
    "\n",
    "# Check connection\n",
    "print(f\"Web3 is connected: {w3.is_connected()}\")\n"
   ]
  }
 ],
 "metadata": {
  "kernelspec": {
   "display_name": "env",
   "language": "python",
   "name": "python3"
  },
  "language_info": {
   "name": "python",
   "version": "3.12.4"
  }
 },
 "nbformat": 4,
 "nbformat_minor": 2
}
