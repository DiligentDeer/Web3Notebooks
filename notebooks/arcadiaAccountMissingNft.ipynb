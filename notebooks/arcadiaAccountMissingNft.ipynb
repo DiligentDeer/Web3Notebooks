{
 "cells": [
  {
   "cell_type": "code",
   "execution_count": 1,
   "metadata": {},
   "outputs": [],
   "source": [
    "from requests import get, post\n",
    "from web3 import Web3, HTTPProvider\n",
    "from icecream import ic\n",
    "import numpy as np\n",
    "import pandas as pd\n",
    "import sys\n",
    "from dotenv import load_dotenv\n",
    "import os\n",
    "import math\n",
    "import json\n",
    "import matplotlib.pyplot as plt\n"
   ]
  },
  {
   "cell_type": "code",
   "execution_count": 2,
   "metadata": {},
   "outputs": [],
   "source": [
    "# Add the directory containing the module to the Python path\n",
    "module_path = os.path.abspath(os.path.join('..'))\n",
    "sys.path.append(module_path)\n",
    "\n",
    "# Import functions from the module\n",
    "from uniV3Pricing import get_account_data, get_uniswap_slot0, get_nft_positions_details, get_amounts_from_ticks"
   ]
  },
  {
   "cell_type": "code",
   "execution_count": 3,
   "metadata": {},
   "outputs": [
    {
     "name": "stdout",
     "output_type": "stream",
     "text": [
      "Web3 is connected: True\n"
     ]
    }
   ],
   "source": [
    "# Explicitly specify the path to .env file using forward slashes\n",
    "load_dotenv(dotenv_path='.env')\n",
    "\n",
    "# Verify that the environment variable is loaded correctly\n",
    "alchemy_key = os.getenv('ALCHEMY_KEY')\n",
    "\n",
    "# Create the Web3 provider using the Alchemy URL\n",
    "w3 = Web3(HTTPProvider(f\"https://base-mainnet.g.alchemy.com/v2/{alchemy_key}\")) # BASE\n",
    "# w3 = Web3(HTTPProvider(f\"https://eth-mainnet.g.alchemy.com/v2/{alchemy_key}\")) # ETHEREUM\n",
    "\n",
    "# Check connection\n",
    "print(f\"Web3 is connected: {w3.is_connected()}\")\n"
   ]
  },
  {
   "cell_type": "markdown",
   "metadata": {},
   "source": [
    "### GraphQL Queries"
   ]
  },
  {
   "cell_type": "code",
   "execution_count": 4,
   "metadata": {},
   "outputs": [],
   "source": [
    "# Define GraphQL queries\n",
    "query_accounts = \"\"\"\n",
    "query MyQuery {\n",
    "  allAccountAssets {\n",
    "    account\n",
    "    numeraire\n",
    "    debtUsd\n",
    "    liquidationValue\n",
    "    healthy\n",
    "    assetDetails\n",
    "    assetDetailsUsd\n",
    "    collateralValue\n",
    "    collateralValueUsd\n",
    "    positionDistribution\n",
    "    positionDistributionUsd\n",
    "    usdcValue\n",
    "    usedMargin\n",
    "    wethValue\n",
    "  }\n",
    "}\n",
    "\"\"\""
   ]
  },
  {
   "cell_type": "markdown",
   "metadata": {},
   "source": [
    "### Define helper functions"
   ]
  },
  {
   "cell_type": "code",
   "execution_count": 5,
   "metadata": {},
   "outputs": [],
   "source": [
    "def fetch_data(url, query):\n",
    "    response = post(url, json={'query': query})\n",
    "    if response.status_code == 200:\n",
    "        return response.json()['data']\n",
    "    else:\n",
    "        raise Exception(f\"Query failed to run by returning code of {response.status_code}. {query}\")\n",
    "\n",
    "def safe_json_loads(val):\n",
    "    if val is None:\n",
    "        return {}\n",
    "    try:\n",
    "        return json.loads(val.replace(\"'\", \"\\\"\"))\n",
    "    except json.JSONDecodeError:\n",
    "        return {}\n"
   ]
  },
  {
   "cell_type": "markdown",
   "metadata": {},
   "source": [
    "### Fetch Data"
   ]
  },
  {
   "cell_type": "code",
   "execution_count": 6,
   "metadata": {},
   "outputs": [],
   "source": [
    "url = \"https://data-core.up.railway.app/protocols/arcadia/graphql/\"\n",
    "\n",
    "# Fetch account data\n",
    "account_data = fetch_data(url, query_accounts)['allAccountAssets']"
   ]
  },
  {
   "cell_type": "markdown",
   "metadata": {},
   "source": [
    "### Process Account Data"
   ]
  },
  {
   "cell_type": "code",
   "execution_count": null,
   "metadata": {},
   "outputs": [],
   "source": [
    "# Convert JSON data to a DataFrame\n",
    "accounts_df = pd.DataFrame(account_data)\n",
    "\n",
    "# Parse nested JSON fields\n",
    "accounts_df['assetDetails'] = accounts_df['assetDetails'].apply(safe_json_loads)\n",
    "accounts_df['assetDetailsUsd'] = accounts_df['assetDetailsUsd'].apply(safe_json_loads)\n",
    "accounts_df['positionDistribution'] = accounts_df['positionDistribution'].apply(safe_json_loads)\n",
    "accounts_df['positionDistributionUsd'] = accounts_df['positionDistributionUsd'].apply(safe_json_loads)\n",
    "\n",
    "# Ensure 'debtUsd' is treated as a float and filter for non-zero debtUsd\n",
    "accounts_df['debtUsd'] = accounts_df['debtUsd'].astype(float)\n",
    "debtUsd_df = accounts_df[accounts_df['debtUsd'] > 0]\n",
    "\n",
    "# Display DataFrame\n",
    "print(\"Accounts Data:\")\n",
    "print(debtUsd_df.head())\n"
   ]
  },
  {
   "cell_type": "code",
   "execution_count": 8,
   "metadata": {},
   "outputs": [
    {
     "name": "stdout",
     "output_type": "stream",
     "text": [
      "Unique keys with zero value in positionDistribution:\n",
      "['0x17b5826382e3a5257b829cf0546a08bd77409270', '0x9f42361b7602df1a8ae28bf63e6cb1883cd44c27', '0x1dc7a0f5336f52724b650e39174cfcbbedd67bf1']\n"
     ]
    }
   ],
   "source": [
    "# Extract keys from positionDistribution where the value is 0\n",
    "keys_with_zero_value = []\n",
    "\n",
    "for distribution in debtUsd_df['positionDistribution']:\n",
    "    keys_with_zero_value.extend([key for key, value in distribution.items() if value == 0])\n",
    "\n",
    "# Get a list of unique keys\n",
    "unique_keys_with_zero_value = list(set(keys_with_zero_value))\n",
    "\n",
    "# Display the unique keys\n",
    "print(\"Unique keys with zero value in positionDistribution:\")\n",
    "print(unique_keys_with_zero_value)\n"
   ]
  },
  {
   "cell_type": "code",
   "execution_count": 9,
   "metadata": {},
   "outputs": [
    {
     "name": "stdout",
     "output_type": "stream",
     "text": [
      "Unique keys with zero value and their occurrences in positionDistribution:\n",
      "0x1dc7a0f5336f52724b650e39174cfcbbedd67bf1: 70\n",
      "0x17b5826382e3a5257b829cf0546a08bd77409270: 1\n",
      "0x9f42361b7602df1a8ae28bf63e6cb1883cd44c27: 2\n"
     ]
    }
   ],
   "source": [
    "from collections import Counter\n",
    "\n",
    "# Extract keys from positionDistribution where the value is 0\n",
    "keys_with_zero_value = []\n",
    "\n",
    "for distribution in debtUsd_df['positionDistribution']:\n",
    "    keys_with_zero_value.extend([key for key, value in distribution.items() if value == 0])\n",
    "\n",
    "# Get the count of occurrences of each unique key\n",
    "key_counts = Counter(keys_with_zero_value)\n",
    "\n",
    "# Display the unique keys and their counts\n",
    "print(\"Unique keys with zero value and their occurrences in positionDistribution:\")\n",
    "for key, count in key_counts.items():\n",
    "    print(f\"{key}: {count}\")\n"
   ]
  },
  {
   "cell_type": "code",
   "execution_count": 12,
   "metadata": {},
   "outputs": [
    {
     "name": "stdout",
     "output_type": "stream",
     "text": [
      "                                            id   value\n",
      "0   0x1Dc7A0f5336F52724B650E39174cfcbbEdD67bF1  208636\n",
      "1   0x1Dc7A0f5336F52724B650E39174cfcbbEdD67bF1  210085\n",
      "2   0x1Dc7A0f5336F52724B650E39174cfcbbEdD67bF1  161277\n",
      "3   0x1Dc7A0f5336F52724B650E39174cfcbbEdD67bF1  203125\n",
      "4   0x1Dc7A0f5336F52724B650E39174cfcbbEdD67bF1  232258\n",
      "..                                         ...     ...\n",
      "65  0x1Dc7A0f5336F52724B650E39174cfcbbEdD67bF1  234344\n",
      "66  0x1Dc7A0f5336F52724B650E39174cfcbbEdD67bF1  234435\n",
      "67  0x1Dc7A0f5336F52724B650E39174cfcbbEdD67bF1  236198\n",
      "68  0x1Dc7A0f5336F52724B650E39174cfcbbEdD67bF1  237190\n",
      "69  0x1Dc7A0f5336F52724B650E39174cfcbbEdD67bF1  241770\n",
      "\n",
      "[70 rows x 2 columns]\n",
      "[208636, 210085, 161277, 203125, 232258, 210105, 206932, 241524, 214760, 242900, 201416, 202677, 229419, 243115, 220056, 221905, 228199, 207014, 227759, 216102, 216130, 207895, 207899, 221929, 218757, 217420, 204057, 206498, 233148, 235799, 195163, 195094, 195546, 238969, 195701, 195889, 236958, 198061, 198302, 200095, 200044, 200050, 200107, 200064, 200072, 200445, 200427, 225812, 223872, 240493, 232176, 206311, 208952, 208806, 211318, 242703, 235702, 216007, 219441, 224418, 222446, 223155, 223217, 223171, 222986, 234344, 234435, 236198, 237190, 241770]\n"
     ]
    }
   ],
   "source": [
    "# Define the ID to search for\n",
    "search_id = \"0x1Dc7A0f5336F52724B650E39174cfcbbEdD67bF1\"\n",
    "\n",
    "# Initialize an empty list to store the results\n",
    "results = []\n",
    "\n",
    "# Iterate through the assetDetails column\n",
    "for asset_detail in debtUsd_df['assetDetails']:\n",
    "    for sublist in asset_detail:\n",
    "        if search_id in sublist:\n",
    "            index = sublist.index(search_id)\n",
    "            results.append([search_id, asset_detail[1][index]])\n",
    "\n",
    "# Convert the results to a DataFrame\n",
    "results_df = pd.DataFrame(results, columns=['id', 'value'])\n",
    "\n",
    "# Display the resulting DataFrame\n",
    "print(results_df)\n",
    "\n",
    "# Create a list of elements in the 'value' column\n",
    "value_list = results_df['value'].tolist()\n",
    "print(value_list)"
   ]
  }
 ],
 "metadata": {
  "kernelspec": {
   "display_name": "env",
   "language": "python",
   "name": "python3"
  },
  "language_info": {
   "codemirror_mode": {
    "name": "ipython",
    "version": 3
   },
   "file_extension": ".py",
   "mimetype": "text/x-python",
   "name": "python",
   "nbconvert_exporter": "python",
   "pygments_lexer": "ipython3",
   "version": "3.12.4"
  }
 },
 "nbformat": 4,
 "nbformat_minor": 2
}
