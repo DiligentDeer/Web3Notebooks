{
 "cells": [
  {
   "cell_type": "code",
   "execution_count": null,
   "metadata": {},
   "outputs": [],
   "source": [
    "\"\"\"\n",
    "Navigate to Your Project Directory: cd E:\\Projects\\llamaRiskDataNotebooks\n",
    "\n",
    "Activate the Virtual Environment: .\\env\\Scripts\\activate.bat\n",
    "\n",
    "\"\"\""
   ]
  },
  {
   "cell_type": "code",
   "execution_count": 1,
   "metadata": {},
   "outputs": [],
   "source": [
    "from requests import get, post\n",
    "from web3 import Web3, HTTPProvider\n",
    "from icecream import ic\n",
    "import numpy as np\n",
    "import pandas as pd\n",
    "import time\n",
    "import json\n",
    "from datetime import datetime, timedelta\n",
    "import matplotlib.pyplot as plt\n",
    "from pandas import json_normalize\n",
    "import sys\n",
    "from dotenv import load_dotenv\n",
    "import os"
   ]
  },
  {
   "cell_type": "code",
   "execution_count": 14,
   "metadata": {},
   "outputs": [],
   "source": [
    "# Add the directory containing your module to the Python path\n",
    "module_path = os.path.abspath(os.path.join('..'))\n",
    "sys.path.append(module_path)\n",
    "\n",
    "# Import your functions\n",
    "from functions01 import add, subtract, multiply, divide, query_smart_contract\n",
    "from uniV3Pricing import get_arcadia_account_nft_position, get_account_data"
   ]
  },
  {
   "cell_type": "code",
   "execution_count": 4,
   "metadata": {},
   "outputs": [
    {
     "name": "stdout",
     "output_type": "stream",
     "text": [
      "Web3 is connected: True\n"
     ]
    }
   ],
   "source": [
    "# Explicitly specify the path to .env file using forward slashes\n",
    "load_dotenv(dotenv_path='E:/Projects/llamaRiskDataNotebooks/.env')\n",
    "\n",
    "# Verify that the environment variable is loaded correctly\n",
    "alchemy_key = os.getenv('ALCHEMY_KEY')\n",
    "\n",
    "# Create the Web3 provider using the Alchemy URL\n",
    "w3 = Web3(HTTPProvider(f\"https://base-mainnet.g.alchemy.com/v2/{alchemy_key}\")) # BASE\n",
    "# w3 = Web3(HTTPProvider(f\"https://eth-mainnet.g.alchemy.com/v2/{alchemy_key}\")) # ETHEREUM\n",
    "\n",
    "# Check connection\n",
    "print(f\"Web3 is connected: {w3.is_connected()}\")\n"
   ]
  },
  {
   "cell_type": "code",
   "execution_count": 11,
   "metadata": {},
   "outputs": [
    {
     "name": "stdout",
     "output_type": "stream",
     "text": [
      "Latest block number: 16838571\n",
      "Web3 is connected: True\n",
      "[['0x4200000000000000000000000000000000000006', '0xd9aAEc86B65D86f6A7B5B1b0c42FFA531710b6CA', '0x833589fCD6eDb6E08f4c7C32D4f71b54bdA02913', '0x03a520b32C04BF3bEEf7BEb72E919cf822Ed34f1', '0x827922686190790b37229fd06084350E74485b72'], [0, 0, 0, 514751, 25926], [645786837953691, 658636, 5252454, 1, 1]]\n"
     ]
    }
   ],
   "source": [
    "latest_block = w3.eth.block_number\n",
    "print(f\"Latest block number: {latest_block}\")\n",
    "\n",
    "# Check Web3 connection\n",
    "print(f\"Web3 is connected: {w3.is_connected()}\")\n",
    "\n",
    "# Example contract address and ABI (you should replace these with actual values)\n",
    "contract_address = \"0x1d3e2c623c7d1c2cc0329ee241a62c47bc213145\"\n",
    "abi = [{\n",
    "    \"inputs\": [],\n",
    "    \"name\": \"generateAssetData\",\n",
    "    \"outputs\": [\n",
    "        {\n",
    "            \"internalType\": \"address[]\",\n",
    "            \"name\": \"assetAddresses\",\n",
    "            \"type\": \"address[]\",\n",
    "        },\n",
    "        {\"internalType\": \"uint256[]\", \"name\": \"assetIds\", \"type\": \"uint256[]\"},\n",
    "        {\"internalType\": \"uint256[]\", \"name\": \"assetAmounts\", \"type\": \"uint256[]\"},\n",
    "    ],\n",
    "    \"stateMutability\": \"view\",\n",
    "    \"type\": \"function\",\n",
    "}]\n",
    "\n",
    "# Query the 'generateAssetData' function (example)\n",
    "result = query_smart_contract(w3, contract_address, abi, 'generateAssetData')\n",
    "print(result)"
   ]
  },
  {
   "cell_type": "code",
   "execution_count": 18,
   "metadata": {},
   "outputs": [
    {
     "name": "stdout",
     "output_type": "stream",
     "text": [
      "0x2Ae3F1Ec7F1F5012CFEab0185bfc7aa3cf0DEc22 18\n",
      "0x4200000000000000000000000000000000000006 18\n",
      "0x833589fCD6eDb6E08f4c7C32D4f71b54bdA02913 6\n",
      "0xd9aAEc86B65D86f6A7B5B1b0c42FFA531710b6CA 6\n",
      "0xc1CBa3fCea344f92D9239c08C0568f6F2F0ee452 18\n",
      "0x940181a94A35A4569E4529A3CDfB74e38FD98631 18\n",
      "0x50c5725949A6F0c72E6C4a641F24049A917DB0Cb 18\n",
      "0xB6fe221Fe9EeF5aBa221c348bA20A1Bf5e73624c 18\n",
      "[18, 18, 6, 6, 18, 18, 18, 18]\n"
     ]
    }
   ],
   "source": [
    "assets = ['0x2Ae3F1Ec7F1F5012CFEab0185bfc7aa3cf0DEc22',\n",
    "       '0x4200000000000000000000000000000000000006',\n",
    "       '0x833589fCD6eDb6E08f4c7C32D4f71b54bdA02913',\n",
    "       '0xd9aAEc86B65D86f6A7B5B1b0c42FFA531710b6CA',\n",
    "       '0xc1CBa3fCea344f92D9239c08C0568f6F2F0ee452',\n",
    "       '0x940181a94A35A4569E4529A3CDfB74e38FD98631',\n",
    "       '0x50c5725949A6F0c72E6C4a641F24049A917DB0Cb',\n",
    "       '0xB6fe221Fe9EeF5aBa221c348bA20A1Bf5e73624c']\n",
    "decimal_abi = [{\"inputs\":[],\"name\":\"decimals\",\"outputs\":[{\"internalType\":\"uint8\",\"name\":\"\",\"type\":\"uint8\"}],\"stateMutability\":\"view\",\"type\":\"function\"}]\n",
    "decimal_list = []\n",
    "\n",
    "for i in assets:\n",
    "    decimal = query_smart_contract(w3, i, decimal_abi, 'decimals')\n",
    "    decimal_list.append(decimal)\n",
    "    print(i, decimal)\n",
    "\n",
    "print(decimal_list)"
   ]
  },
  {
   "cell_type": "code",
   "execution_count": 16,
   "metadata": {},
   "outputs": [
    {
     "data": {
      "text/plain": [
       "[['0x4200000000000000000000000000000000000006',\n",
       "  '0xd9aAEc86B65D86f6A7B5B1b0c42FFA531710b6CA',\n",
       "  '0x833589fCD6eDb6E08f4c7C32D4f71b54bdA02913',\n",
       "  '0x03a520b32C04BF3bEEf7BEb72E919cf822Ed34f1',\n",
       "  '0x827922686190790b37229fd06084350E74485b72'],\n",
       " [0, 0, 0, 514751, 25926],\n",
       " [645786837953691, 658636, 5252454, 1, 1]]"
      ]
     },
     "execution_count": 16,
     "metadata": {},
     "output_type": "execute_result"
    }
   ],
   "source": [
    "def get_account_data(account_address, w3=w3):\n",
    "    \n",
    "    account_abi = [{\n",
    "        \"inputs\": [],\n",
    "        \"name\": \"generateAssetData\",\n",
    "        \"outputs\": [\n",
    "            {\n",
    "                \"internalType\": \"address[]\",\n",
    "                \"name\": \"assetAddresses\",\n",
    "                \"type\": \"address[]\",\n",
    "            },\n",
    "            {\"internalType\": \"uint256[]\", \"name\": \"assetIds\", \"type\": \"uint256[]\"},\n",
    "            {\"internalType\": \"uint256[]\", \"name\": \"assetAmounts\", \"type\": \"uint256[]\"},\n",
    "        ],\n",
    "        \"stateMutability\": \"view\",\n",
    "        \"type\": \"function\",\n",
    "    }]\n",
    "    \n",
    "    try:\n",
    "        # Pool contract\n",
    "        contract = w3.eth.contract(\n",
    "            address=Web3.to_checksum_address(account_address), #0xb2DF87b16682435bdf29494fEA44dF5374F22f3E\n",
    "            abi=account_abi\n",
    "        )\n",
    "        data = contract.functions.generateAssetData().call()\n",
    "        return data\n",
    "    except Exception as e:\n",
    "        return f'Error fetching pool_oracle: {e}'\n",
    "    \n",
    "get_account_data(\"0x1d3e2c623c7d1c2cc0329ee241a62c47bc213145\")"
   ]
  },
  {
   "cell_type": "code",
   "execution_count": 17,
   "metadata": {},
   "outputs": [
    {
     "name": "stdout",
     "output_type": "stream",
     "text": [
      "[['0x4200000000000000000000000000000000000006', '0xd9aAEc86B65D86f6A7B5B1b0c42FFA531710b6CA', '0x833589fCD6eDb6E08f4c7C32D4f71b54bdA02913', '0x03a520b32C04BF3bEEf7BEb72E919cf822Ed34f1', '0x827922686190790b37229fd06084350E74485b72'], [0, 0, 0, 514751, 25926], [645786837953691, 658636, 5252454, 1, 1]]\n"
     ]
    }
   ],
   "source": [
    "x = get_account_data(\"0x1d3e2c623c7d1c2cc0329ee241a62c47bc213145\",w3)\n",
    "print(x)"
   ]
  },
  {
   "cell_type": "code",
   "execution_count": 15,
   "metadata": {},
   "outputs": [
    {
     "data": {
      "text/plain": [
       "\"Error fetching pool_oracle: Could not format invalid value {'inputs': [], 'name': 'generateAssetData', 'outputs': [{'internalType': 'address[]', 'name': 'assetAddresses', 'type': 'address[]'}, {'internalType': 'uint256[]', 'name': 'assetIds', 'type': 'uint256[]'}, {'internalType': 'uint256[]', 'name': 'assetAmounts', 'type': 'uint256[]'}], 'stateMutability': 'view', 'type': 'function'} as field 'abi'\""
      ]
     },
     "execution_count": 15,
     "metadata": {},
     "output_type": "execute_result"
    }
   ],
   "source": []
  },
  {
   "cell_type": "code",
   "execution_count": null,
   "metadata": {},
   "outputs": [],
   "source": [
    "get_arcadia_account_nft_position(x, w3=w3)"
   ]
  }
 ],
 "metadata": {
  "kernelspec": {
   "display_name": "env",
   "language": "python",
   "name": "python3"
  },
  "language_info": {
   "codemirror_mode": {
    "name": "ipython",
    "version": 3
   },
   "file_extension": ".py",
   "mimetype": "text/x-python",
   "name": "python",
   "nbconvert_exporter": "python",
   "pygments_lexer": "ipython3",
   "version": "3.12.4"
  }
 },
 "nbformat": 4,
 "nbformat_minor": 2
}
